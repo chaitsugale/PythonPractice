{
 "cells": [
  {
   "cell_type": "markdown",
   "metadata": {},
   "source": [
    "# Python Practice Questions with Solutions"
   ]
  },
  {
   "cell_type": "markdown",
   "metadata": {},
   "source": [
    "1. Write A program to accept  Four digit number from user and count zero , odd and even digits from the entered number."
   ]
  },
  {
   "cell_type": "code",
   "execution_count": 10,
   "metadata": {},
   "outputs": [
    {
     "name": "stdout",
     "output_type": "stream",
     "text": [
      "Enter The Number : 5520\n",
      "Numbers of Zeros = 1 , Even = 1 , Odd = 2\n"
     ]
    }
   ],
   "source": [
    "count_zero = 0\n",
    "count_even = 0\n",
    "count_odd = 0\n",
    "\n",
    "num = input(\"Enter The Number : \")\n",
    "length = len(num)\n",
    "if length==4:\n",
    "    for digit in num:\n",
    "        if int(digit) ==0:\n",
    "            count_zero+=1\n",
    "        elif int(digit)%2==0:\n",
    "            count_even+=1\n",
    "        elif int(digit)%2!=0:\n",
    "            count_odd+=1\n",
    "    \n",
    "    print(\"Numbers of Zeros = {} , Even = {} , Odd = {}\".format(count_zero,count_even,count_odd))\n",
    "else:\n",
    "    print(\"Sorry !\")"
   ]
  },
  {
   "cell_type": "markdown",
   "metadata": {},
   "source": [
    "2.Write a   program to accept ‘n’ numbers from user , store these numbers into an array. Find out maximum and minimum number from an Array."
   ]
  },
  {
   "cell_type": "code",
   "execution_count": 39,
   "metadata": {},
   "outputs": [
    {
     "name": "stdout",
     "output_type": "stream",
     "text": [
      "Enter number of Input : 5\n",
      "Enter the values : 14\n",
      "Enter the values : 55\n",
      "Enter the values : 78\n",
      "Enter the values : 66\n",
      "Enter the values : 10\n",
      "Minimum Value of array : 10\n",
      "Maximum Value of array : 78\n"
     ]
    }
   ],
   "source": [
    "arr = []\n",
    "\n",
    "n = int(input(\"Enter number of Input : \"))\n",
    "\n",
    "for i in range(0,n):\n",
    "    new_arr = int(input(\"Enter the values : \"))\n",
    "\n",
    "    arr.append(new_arr)\n",
    "\n",
    "arr_min = min(arr)\n",
    "\n",
    "arr_max = max(arr)\n",
    "\n",
    "print(\"Minimum Value of array : {}\".format(arr_min))\n",
    "print(\"Maximum Value of array : {}\".format(arr_max))"
   ]
  },
  {
   "cell_type": "markdown",
   "metadata": {},
   "source": [
    "3.Write a menu driven program  that shows the working of a library. The menu option should be\n",
    "\n",
    "<ol>\n",
    "    <li>ADD BOOK INFORMATION</li>\n",
    "    <li>DISPLAY BOOK INFORMATION</li>\n",
    "    <li>LIST ALL BOOKS OF GIVEN AUTHOR</li>\n",
    "    <li>LIST THE COUNT OF BOOKS IN THE LIBRARY</li>\n",
    "    <li>EXIT</li>\n",
    "\n",
    "</ol>"
   ]
  },
  {
   "cell_type": "code",
   "execution_count": 40,
   "metadata": {},
   "outputs": [
    {
     "name": "stdout",
     "output_type": "stream",
     "text": [
      "***Add Books***\n",
      "2\n",
      "Enter Serial Number : 100\n",
      "Enter Book Name : the rudest book ever\n",
      "Enter Author Name : shwetabh\n",
      "Enter Price : 55\n",
      "Enter Serial Number : 102\n",
      "Enter Book Name : 5am club\n",
      "Enter Author Name : robin\n",
      "Enter Price : 50\n",
      "********List of Books********\n",
      "Serian Number : 100\n",
      "Book Name : the rudest book ever\n",
      "Book Author : shwetabh\n",
      "Book Price : 55\n",
      "Serian Number : 102\n",
      "Book Name : 5am club\n",
      "Book Author : robin\n",
      "Book Price : 50\n",
      "****Books Based on Author******\n",
      "Search the author name : robin\n",
      "Serian Number : 102\n",
      "Book Name : 5am club\n",
      "Book Author : robin\n",
      "Book Price : 50\n",
      "***Number of books in library***\n",
      "No. Of Books in Library Are : 2\n",
      "Thank You\n"
     ]
    }
   ],
   "source": [
    "class Library:\n",
    "    no_of_books = 0\n",
    "    def __init__(self,serial_number,book_name,book_author,book_price):\n",
    "        self.serial_number = serial_number\n",
    "        self.book_name = book_name\n",
    "        self.book_author = book_author\n",
    "        self.book_price = book_price\n",
    "    #Add Book Information\n",
    "    def add_book_info(self,serial_number,book_name,book_author,book_price):\n",
    "        serial_number = int(input(\"Enter Serial Number : \"))\n",
    "        book_name = input(\"Enter Book Name : \")\n",
    "        book_author = input(\"Enter Author Name : \")\n",
    "        book_price = int(input(\"Enter Price : \"))\n",
    "        books = Library(serial_number,book_name,book_author,book_price)\n",
    "        lists.append(books)\n",
    "        Library.no_of_books+=1\n",
    "    #Display Book Information\n",
    "    def display_book_info(self,books):\n",
    "        print(\"Serian Number : {}\".format(books.serial_number))\n",
    "        print(\"Book Name : {}\".format(books.book_name))\n",
    "        print(\"Book Author : {}\".format(books.book_author))\n",
    "        print(\"Book Price : {}\".format(books.book_price))\n",
    "    #List All Book of Given Author\n",
    "    def list_author(self,author):\n",
    "        author = input(\"Search the author name : \")\n",
    "        for i in range(lists.__len__()):\n",
    "            if(lists[i].book_author == author):\n",
    "                return i\n",
    "    #List the Count of Books in Library\n",
    "    def list_count_books(self,counter):\n",
    "        counter = Library.no_of_books\n",
    "        print(\"No. Of Books in Library Are : {}\".format(counter))\n",
    "\n",
    "lists = []\n",
    "\n",
    "books=Library('serial_number', 'book_name', 'book_author', 'book_price')\n",
    "\n",
    "#print(\"Options are as below : \")\n",
    "#print(\"\\n1. Add Book Information \\n2. Display Book Information \\n3. List the book of given author \\n4. Listy of Count of Books\")\n",
    "\n",
    "#choice = int(input(\"Please select your choice : \"))\n",
    "\n",
    "#if choice==1:\n",
    "    #continue\n",
    "print(\"***Add Books***\")\n",
    "n=int(input())\n",
    "for i in range(0,n):\n",
    "    books.add_book_info('serial_number', 'book_name', 'book_author', 'book_price')    \n",
    "#elif choice==2:\n",
    "print(\"********List of Books********\")\n",
    "for i in range(lists.__len__()):\n",
    "    books.display_book_info(lists[i])\n",
    "#elif choice==3:\n",
    "print(\"****Books Based on Author******\")\n",
    "search_auth = books.list_author('author')\n",
    "books.display_book_info(lists[search_auth])\n",
    "#elif choice==4:\n",
    "print(\"***Number of books in library***\")\n",
    "books.list_count_books('counter')\n",
    "#else:\n",
    "print(\"Thank You\")\n",
    "        \n",
    "\n",
    "\n"
   ]
  },
  {
   "cell_type": "markdown",
   "metadata": {},
   "source": [
    "\n",
    "4.Write a  program to accept ‘n’ numbers from user , store these numbers into an array and sort the numbers of an array using function."
   ]
  },
  {
   "cell_type": "code",
   "execution_count": 41,
   "metadata": {},
   "outputs": [
    {
     "name": "stdout",
     "output_type": "stream",
     "text": [
      "Enter number of Input : 5\n",
      "Enter the values : 10\n",
      "Enter the values : 66\n",
      "Enter the values : 78\n",
      "Enter the values : 2\n",
      "Enter the values : 40\n",
      "Sorted array is : [2, 10, 40, 66, 78]\n"
     ]
    }
   ],
   "source": [
    "arr = []\n",
    "\n",
    "n = int(input(\"Enter number of Input : \"))\n",
    "\n",
    "for i in range(0,n):\n",
    "    new_arr = int(input(\"Enter the values : \"))\n",
    "\n",
    "    arr.append(new_arr)\n",
    "\n",
    "arr.sort()\n",
    "print(\"Sorted array is : {}\".format(arr))"
   ]
  },
  {
   "cell_type": "markdown",
   "metadata": {},
   "source": [
    "5.Write a program to accept customer details such as : Account_no, Name, Balance in Acount, Assume Maximum 20 Customer In the bank. Write a function to print the account no and name of each customer with balance below rs 100."
   ]
  },
  {
   "cell_type": "code",
   "execution_count": null,
   "metadata": {},
   "outputs": [],
   "source": [
    "class Customer:\n",
    "    def __init__(self,acc_no,acc_name,acc_bal):\n",
    "        self.acc_no = acc_no\n",
    "        self.acc_name = acc_name\n",
    "        self.acc_bal = acc_bal\n",
    "    def add_details(self,acc_no,acc_name,acc_bal):\n",
    "        acc_no = int(input(\"Enter Account Number : \"))\n",
    "        acc_name = input(\"Enter Account Name : \")\n",
    "        acc_bal = float(input(\"Enter Account Balance : \"))\n",
    "        account = Customer(acc_no,acc_name,acc_bal)\n",
    "        lists.append(account)\n",
    "    def display_details(self,account):\n",
    "        print(\"Account Number : {}\".format(account.acc_no))\n",
    "        print(\"Account Name : {}\".format(account.acc_name))\n",
    "        print(\"Balance : {}\".format(account.acc_balance))\n",
    "        \n",
    "lists=[]\n",
    "\n",
    "customers_account = Customer('acc_no','acc_name','acc_bal')\n",
    "\n",
    "n = int(input())\n",
    "for i in range(0,n):\n",
    "    if i<=20:\n",
    "        customers_account.add_details('acc_no','acc_name','acc_bal')\n",
    "    else:\n",
    "        print(\"Sorry !!!\")\n",
    "\n",
    "for i in range(lists.__len__()):\n",
    "    customers_account.display_details(lists[i])\n",
    "    if lists.acc_bal<100:\n",
    "        customers_account.display_details(lists[i]) "
   ]
  },
  {
   "cell_type": "markdown",
   "metadata": {},
   "source": [
    "Answers to be calculated"
   ]
  },
  {
   "cell_type": "markdown",
   "metadata": {},
   "source": [
    "6. Write a program to accept 5 names from user and store these names into an array sort these array element in alphabetical order."
   ]
  },
  {
   "cell_type": "code",
   "execution_count": 46,
   "metadata": {},
   "outputs": [
    {
     "name": "stdout",
     "output_type": "stream",
     "text": [
      "Enter number of Input : 6\n",
      "Enter the values : rachael\n",
      "Enter the values : monica\n",
      "Enter the values : phoebe\n",
      "Enter the values : ross\n",
      "Enter the values : chandler\n",
      "Enter the values : joey\n",
      "Sorted array is : ['chandler', 'joey', 'monica', 'phoebe', 'rachael', 'ross']\n"
     ]
    }
   ],
   "source": [
    "arr = []\n",
    "\n",
    "n = int(input(\"Enter number of Input : \"))\n",
    "\n",
    "for i in range(0,n):\n",
    "    new_arr = input(\"Enter the values : \")\n",
    "\n",
    "    arr.append(new_arr)\n",
    "\n",
    "arr.sort()\n",
    "print(\"Sorted array is : {}\".format(arr))"
   ]
  },
  {
   "cell_type": "markdown",
   "metadata": {},
   "source": [
    "7. Write a program to calculate the sum of digits of a given number."
   ]
  },
  {
   "cell_type": "code",
   "execution_count": 50,
   "metadata": {},
   "outputs": [
    {
     "name": "stdout",
     "output_type": "stream",
     "text": [
      "Enter The Number : 5746\n",
      "Sum of Number is : 22\n"
     ]
    }
   ],
   "source": [
    "def getSumOfNumber(num):\n",
    "    sum=0\n",
    "    while(num!=0):\n",
    "        sum = sum + int(num%10)\n",
    "        num = int(num/10)\n",
    "        \n",
    "    return sum\n",
    "\n",
    "num = int(input(\"Enter The Number : \"))\n",
    "print(\"Sum of Number is : {}\".format(getSumOfNumber(num)))"
   ]
  },
  {
   "cell_type": "markdown",
   "metadata": {},
   "source": [
    "8. Write a program to swap the values of two variables using Call by Reference."
   ]
  },
  {
   "cell_type": "code",
   "execution_count": 53,
   "metadata": {},
   "outputs": [
    {
     "name": "stdout",
     "output_type": "stream",
     "text": [
      "Enter the value of A : 54\n",
      "Enter the value of B : 87\n",
      "Before Swap : A = 54 and B = 87\n",
      "After Swap : A = 87 and B = 54\n"
     ]
    }
   ],
   "source": [
    "a = int(input(\"Enter the value of A : \"))\n",
    "b = int(input(\"Enter the value of B : \"))\n",
    "\n",
    "print(\"Before Swap : A = {} and B = {}\".format(a,b))\n",
    "\n",
    "a,b = b,a\n",
    "\n",
    "print(\"After Swap : A = {} and B = {}\".format(a,b))"
   ]
  },
  {
   "cell_type": "markdown",
   "metadata": {},
   "source": [
    "9. Write a program to calculate the sum of first digit and last digit of a given number"
   ]
  },
  {
   "cell_type": "code",
   "execution_count": 55,
   "metadata": {},
   "outputs": [
    {
     "name": "stdout",
     "output_type": "stream",
     "text": [
      "Enter The Number : 478963\n",
      "Sum of first and last digit of number : 7\n"
     ]
    }
   ],
   "source": [
    "def digit_first(num):\n",
    "    while num>10:\n",
    "        num = num/10\n",
    "    return int(num)\n",
    "def digit_last(num):\n",
    "    return (num%10)\n",
    "\n",
    "num = int(input(\"Enter The Number : \"))\n",
    "sum = digit_first(num) + digit_last(num)\n",
    "print(\"Sum of first and last digit of number : {}\".format(sum))\n",
    "\n",
    "\n",
    "        "
   ]
  },
  {
   "cell_type": "markdown",
   "metadata": {},
   "source": [
    "10.Write a program to accept a string from user , delete all vowels from the string and display the result."
   ]
  },
  {
   "cell_type": "code",
   "execution_count": 60,
   "metadata": {},
   "outputs": [
    {
     "name": "stdout",
     "output_type": "stream",
     "text": [
      "Enter the words : hey how u doin\n",
      "Word after removing vowels : hy hw  dn\n"
     ]
    }
   ],
   "source": [
    "import re\n",
    "\n",
    "def remove_vowels(word):\n",
    "    return(re.sub(\"[aeiouAEIOU]\",'',word))\n",
    "\n",
    "word = input(\"Enter the words : \")\n",
    "print(\"Word after removing vowels : {}\".format(remove_vowels(word)))"
   ]
  },
  {
   "cell_type": "markdown",
   "metadata": {},
   "source": [
    "11. Write a program to accept a string value from the user and accept a char value from the user and and find out the total occurrence of char value in the string value."
   ]
  },
  {
   "cell_type": "code",
   "execution_count": 11,
   "metadata": {},
   "outputs": [
    {
     "name": "stdout",
     "output_type": "stream",
     "text": [
      "Enter String : Joey Doesnt Share Food\n",
      "Enter Character : o\n",
      "Count of Joey Doesnt Share Food for o is 4.\n"
     ]
    }
   ],
   "source": [
    "string = input(\"Enter String : \")\n",
    "charz = input(\"Enter Character : \")\n",
    "\n",
    "char_counter = string.count(charz)\n",
    "\n",
    "print(\"Count of {} for {} is {}.\".format(string,charz,char_counter))"
   ]
  },
  {
   "cell_type": "markdown",
   "metadata": {},
   "source": [
    "12. Write a  program to accept a sentence from the user and reverse its each word."
   ]
  },
  {
   "cell_type": "code",
   "execution_count": 16,
   "metadata": {},
   "outputs": [
    {
     "name": "stdout",
     "output_type": "stream",
     "text": [
      "Enter The String : The Geller Cup\n",
      "ehT relleG puC"
     ]
    }
   ],
   "source": [
    "def reverserWords(string):\n",
    "    st = list()\n",
    " \n",
    "    for i in range(len(string)):\n",
    "        if string[i] != \" \":\n",
    "            st.append(string[i])\n",
    " \n",
    "        # When we see a space, we print\n",
    "        # contents of stack.\n",
    "        else:\n",
    "            while len(st) > 0:\n",
    "                print(st[-1], end= \"\")\n",
    "                st.pop()\n",
    "            print(end = \" \")\n",
    " \n",
    "    while len(st) > 0:\n",
    "        print(st[-1], end = \"\")\n",
    "        st.pop()\n",
    "        \n",
    "if __name__ == \"__main__\":\n",
    "    string = input(\"Enter The String : \")\n",
    "    reverserWords(string)"
   ]
  },
  {
   "cell_type": "markdown",
   "metadata": {},
   "source": [
    "15 . Write a program to calculate  X to the power (Y+Z) ."
   ]
  },
  {
   "cell_type": "code",
   "execution_count": 19,
   "metadata": {},
   "outputs": [
    {
     "name": "stdout",
     "output_type": "stream",
     "text": [
      "x = 2\n",
      "y =3\n",
      "z =5\n",
      "256\n"
     ]
    }
   ],
   "source": [
    "x = int(input(\"x = \"))\n",
    "y = int(input(\"y =\"))\n",
    "z = int(input(\"z =\"))\n",
    "\n",
    "calc = x**(y+z)\n",
    "print(calc)"
   ]
  },
  {
   "cell_type": "markdown",
   "metadata": {},
   "source": [
    "14. Write a program to accept ‘n’ numbers from user and store these numbers into an array and count the number of occurrences of each number."
   ]
  },
  {
   "cell_type": "code",
   "execution_count": 30,
   "metadata": {},
   "outputs": [
    {
     "name": "stdout",
     "output_type": "stream",
     "text": [
      "5\n",
      "4\n",
      "7\n",
      "7\n",
      "6\n",
      "4\n",
      "Select a number to count : 7\n",
      "Number of 7 for array [4, 7, 7, 6, 4] is 2\n"
     ]
    }
   ],
   "source": [
    "def countOccurence(arr,length,select):\n",
    "    count = 0\n",
    "    for i in range(length):\n",
    "        if select==arr[i]:\n",
    "            count+=1\n",
    "    return count\n",
    "    \n",
    "arr = []\n",
    "n = int(input())\n",
    "for i in range(0,n):\n",
    "    num = int(input())\n",
    "    arr.append(num)\n",
    "    \n",
    "length = len(arr)\n",
    "select=int(input(\"Select a number to count : \"))\n",
    "print(\"Number of {} for array {} is {}\".format(select,arr,countOccurence(arr,length,select)))\n",
    "        "
   ]
  },
  {
   "cell_type": "markdown",
   "metadata": {},
   "source": [
    "18. Write a program to calculate the x to the power y without using Standard functions."
   ]
  },
  {
   "cell_type": "code",
   "execution_count": 20,
   "metadata": {},
   "outputs": [
    {
     "name": "stdout",
     "output_type": "stream",
     "text": [
      "x = 6\n",
      "y =9\n",
      "10077696\n"
     ]
    }
   ],
   "source": [
    "x = int(input(\"x = \"))\n",
    "y = int(input(\"y =\"))\n",
    "\n",
    "calc = x**y\n",
    "print(calc)"
   ]
  },
  {
   "cell_type": "markdown",
   "metadata": {},
   "source": [
    "17. Write a Program to accept  ‘n’ numbers and store all prime numbers in an array and display the array."
   ]
  },
  {
   "cell_type": "code",
   "execution_count": 43,
   "metadata": {},
   "outputs": [
    {
     "name": "stdout",
     "output_type": "stream",
     "text": [
      "20\n"
     ]
    },
    {
     "data": {
      "text/plain": [
       "[2, 3, 5, 7, 11, 13, 17, 19]"
      ]
     },
     "execution_count": 43,
     "metadata": {},
     "output_type": "execute_result"
    }
   ],
   "source": [
    "def findPrime(num):\n",
    "    for i in range(2,num):\n",
    "        if num%i==0:\n",
    "            return False\n",
    "    return True\n",
    "\n",
    "num = int(input())\n",
    "list(filter(findPrime,range(2,num)))\n",
    "    "
   ]
  },
  {
   "cell_type": "markdown",
   "metadata": {},
   "source": [
    "20. Write a program to accept string from the user and replace all occurrences of character ‘a’ by ‘*’ symbol."
   ]
  },
  {
   "cell_type": "code",
   "execution_count": 47,
   "metadata": {},
   "outputs": [
    {
     "name": "stdout",
     "output_type": "stream",
     "text": [
      "Enter the string : Starting is not most people’s problem, staying, continuing and finishing is\n",
      "Replaced word is : St#rting is not most people’s problem, st#ying, continuing #nd finishing is\n"
     ]
    }
   ],
   "source": [
    "word = input(\"Enter the string : \")\n",
    "print(\"Replaced word is : {}\".format(word.replace('a','#')))\n"
   ]
  },
  {
   "cell_type": "markdown",
   "metadata": {},
   "source": [
    "24. Write a program to display the multiplication table of a given number."
   ]
  },
  {
   "cell_type": "code",
   "execution_count": 48,
   "metadata": {},
   "outputs": [
    {
     "name": "stdout",
     "output_type": "stream",
     "text": [
      "Enter the Number : 10\n",
      "10 x 1 = 10\n",
      "10 x 2 = 20\n",
      "10 x 3 = 30\n",
      "10 x 4 = 40\n",
      "10 x 5 = 50\n",
      "10 x 6 = 60\n",
      "10 x 7 = 70\n",
      "10 x 8 = 80\n",
      "10 x 9 = 90\n",
      "10 x 10 = 100\n",
      "None\n"
     ]
    }
   ],
   "source": [
    "def displayMultiply(num):\n",
    "    for i in range(1,11):\n",
    "        print(\"{} x {} = {}\".format(num,i,num*i))\n",
    "\n",
    "num = int(input(\"Enter the Number : \"))\n",
    "print(displayMultiply(num))"
   ]
  },
  {
   "cell_type": "code",
   "execution_count": null,
   "metadata": {},
   "outputs": [],
   "source": []
  }
 ],
 "metadata": {
  "kernelspec": {
   "display_name": "Python 3",
   "language": "python",
   "name": "python3"
  },
  "language_info": {
   "codemirror_mode": {
    "name": "ipython",
    "version": 3
   },
   "file_extension": ".py",
   "mimetype": "text/x-python",
   "name": "python",
   "nbconvert_exporter": "python",
   "pygments_lexer": "ipython3",
   "version": "3.8.3"
  }
 },
 "nbformat": 4,
 "nbformat_minor": 4
}
